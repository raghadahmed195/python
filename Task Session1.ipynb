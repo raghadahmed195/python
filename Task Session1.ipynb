{
 "cells": [
  {
   "cell_type": "markdown",
   "id": "001b39b0",
   "metadata": {},
   "source": [
    "# Raghad ahmed gad"
   ]
  },
  {
   "cell_type": "markdown",
   "id": "2e6129a7",
   "metadata": {},
   "source": [
    "## WAP to enter a number from user and print its absolute value.*"
   ]
  },
  {
   "cell_type": "code",
   "execution_count": 5,
   "id": "1a2b81cb",
   "metadata": {},
   "outputs": [
    {
     "name": "stdout",
     "output_type": "stream",
     "text": [
      "enter number-10\n",
      "10\n"
     ]
    }
   ],
   "source": [
    "x=int(input(\"enter number\"))\n",
    "y=abs(x)\n",
    "print (y)"
   ]
  },
  {
   "cell_type": "markdown",
   "id": "6e4c5e8e",
   "metadata": {},
   "source": [
    "##  WAP to enter a year from user and check if it is leap year of not."
   ]
  },
  {
   "cell_type": "code",
   "execution_count": 7,
   "id": "98f7d9fc",
   "metadata": {},
   "outputs": [
    {
     "name": "stdout",
     "output_type": "stream",
     "text": [
      "enter number2024\n",
      "leap year\n"
     ]
    }
   ],
   "source": [
    "x=int(input(\"enter number\"))\n",
    "if x%4==0:\n",
    "    print(\"leap year\")\n",
    "else:\n",
    "    print (\"normal year\")"
   ]
  },
  {
   "cell_type": "markdown",
   "id": "30b689c8",
   "metadata": {},
   "source": [
    "## WAP to enter the age of 3 person and print oldest and yougest among them."
   ]
  },
  {
   "cell_type": "code",
   "execution_count": 8,
   "id": "c166f026",
   "metadata": {},
   "outputs": [
    {
     "name": "stdout",
     "output_type": "stream",
     "text": [
      "enter first age15\n",
      "enter second age20\n",
      "enter third age30\n",
      "z is oldest\n"
     ]
    }
   ],
   "source": [
    "x=int(input(\"enter first age\"))\n",
    "y=int(input(\"enter second age\"))\n",
    "z=int(input(\"enter third age\"))\n",
    "if x>y and x>z:\n",
    "    print(\"x is oldest\")\n",
    "elif y>x and y>z:\n",
    "    print (\"y is oldest\")\n",
    "else :\n",
    "    print(\"z is oldest\")"
   ]
  },
  {
   "cell_type": "markdown",
   "id": "b7a31e5f",
   "metadata": {},
   "source": [
    "## Write a program that asks the user to enter a series of numbers. The program should ask for numbers until the user enters a negative number. Once the user enters a negative number, the program should stop and print the sum of all the positive numbers entered\n",
    "\n",
    "## Example\n",
    "\n",
    "\n",
    "### Enter a number: 5\n",
    "### Enter a number: 8\n",
    "### Enter a number: 12\n",
    "### Enter a number: -2\n",
    "### The sum of the positive numbers is 25. "
   ]
  },
  {
   "cell_type": "code",
   "execution_count": 9,
   "id": "daf372d4",
   "metadata": {},
   "outputs": [
    {
     "name": "stdout",
     "output_type": "stream",
     "text": [
      "numbers:5\n",
      "numbers:10\n",
      "numbers:60\n",
      "numbers:30\n",
      "numbers:-20\n",
      "105\n"
     ]
    }
   ],
   "source": [
    "lst = []\n",
    "while True:\n",
    "    x = int(input('numbers:'))\n",
    "    if x > 0:\n",
    "        lst.append(x)\n",
    "    if x < 0:\n",
    "        print(sum(lst))\n",
    "        break"
   ]
  },
  {
   "cell_type": "markdown",
   "id": "7e526aaa",
   "metadata": {},
   "source": [
    "## Write a program that asks the user to enter their name and age. The program should check if the user's age is greater than or equal to 18. If it is, the program should print a message saying they are eligible to vote. Otherwise, the program should print a message saying they are not eligible to vote due to being underage.\n"
   ]
  },
  {
   "cell_type": "code",
   "execution_count": 11,
   "id": "96c50bdf",
   "metadata": {},
   "outputs": [
    {
     "name": "stdout",
     "output_type": "stream",
     "text": [
      "enter age21\n",
      "enter nameraghad\n",
      "they are eligible to vote\n"
     ]
    }
   ],
   "source": [
    "age=int(input(\"enter age\"))\n",
    "name=input(\"enter name\")\n",
    "if age<18:\n",
    "    print (\"they are not eligible to vote due to being underage\")\n",
    "else:\n",
    "    print (\"they are eligible to vote\")"
   ]
  },
  {
   "cell_type": "code",
   "execution_count": null,
   "id": "e6ada62a",
   "metadata": {},
   "outputs": [],
   "source": []
  }
 ],
 "metadata": {
  "kernelspec": {
   "display_name": "Python 3 (ipykernel)",
   "language": "python",
   "name": "python3"
  },
  "language_info": {
   "codemirror_mode": {
    "name": "ipython",
    "version": 3
   },
   "file_extension": ".py",
   "mimetype": "text/x-python",
   "name": "python",
   "nbconvert_exporter": "python",
   "pygments_lexer": "ipython3",
   "version": "3.11.5"
  }
 },
 "nbformat": 4,
 "nbformat_minor": 5
}
