{
 "cells": [
  {
   "cell_type": "markdown",
   "id": "2cae9be9",
   "metadata": {},
   "source": [
    "# raghad ahmed gad"
   ]
  },
  {
   "cell_type": "markdown",
   "id": "ff38aad7",
   "metadata": {},
   "source": [
    "### 1-Write a Python program that takes two numbers as user input and performs addition on them."
   ]
  },
  {
   "cell_type": "code",
   "execution_count": 6,
   "id": "91696b79",
   "metadata": {},
   "outputs": [
    {
     "name": "stdout",
     "output_type": "stream",
     "text": [
      "enter first number10\n",
      "enter second number50\n",
      "60\n"
     ]
    }
   ],
   "source": [
    "x=int(input(\"enter first number\"))\n",
    "y=int(input(\"enter second number\"))\n",
    "z=x+y\n",
    "print(z)"
   ]
  },
  {
   "cell_type": "markdown",
   "id": "360854ff",
   "metadata": {},
   "source": [
    "### 2-Write a Python program that takes an integer as input and checks if it is even or odd. Print \"Even\" if the number is divisible by 2, otherwise print \"Odd\"."
   ]
  },
  {
   "cell_type": "code",
   "execution_count": 7,
   "id": "ee4c35fe",
   "metadata": {
    "ExecuteTime": {
     "end_time": "2023-07-23T21:35:24.351946Z",
     "start_time": "2023-07-23T21:35:23.287212Z"
    }
   },
   "outputs": [
    {
     "name": "stdout",
     "output_type": "stream",
     "text": [
      "enter first number10\n",
      "even\n"
     ]
    }
   ],
   "source": [
    "x=int(input(\"enter first number\"))\n",
    "if x%2==0:\n",
    "    print(\"even\")\n",
    "else:\n",
    "    print(\"odd\")"
   ]
  },
  {
   "cell_type": "markdown",
   "id": "6ea0354c",
   "metadata": {},
   "source": [
    "### 3-Write a Python program that prints all the even numbers from 1 to 20 using a for loop"
   ]
  },
  {
   "cell_type": "code",
   "execution_count": 10,
   "id": "df43b7f5",
   "metadata": {
    "ExecuteTime": {
     "end_time": "2023-07-23T21:36:51.373589Z",
     "start_time": "2023-07-23T21:36:51.365580Z"
    }
   },
   "outputs": [
    {
     "name": "stdout",
     "output_type": "stream",
     "text": [
      "0\n",
      "2\n",
      "4\n",
      "6\n",
      "8\n",
      "10\n",
      "12\n",
      "14\n",
      "16\n",
      "18\n",
      "20\n"
     ]
    }
   ],
   "source": [
    "for i in range (0,21):\n",
    "    if i%2==0:\n",
    "        print(i)\n",
    "    \n",
    "        "
   ]
  },
  {
   "cell_type": "markdown",
   "id": "2d66bab2",
   "metadata": {},
   "source": [
    "### 4-Write a Python function that takes a string as input and counts the number of vowels (a, e, i, o, u) in the string. The function should return the count"
   ]
  },
  {
   "cell_type": "code",
   "execution_count": 13,
   "id": "a37a84fd",
   "metadata": {
    "ExecuteTime": {
     "end_time": "2023-07-23T21:45:58.522044Z",
     "start_time": "2023-07-23T21:45:58.514370Z"
    }
   },
   "outputs": [
    {
     "name": "stdout",
     "output_type": "stream",
     "text": [
      "2\n"
     ]
    }
   ],
   "source": [
    "def vowels(x):\n",
    "    vowels = \"aeiouAEIOU\"\n",
    "    count = 0\n",
    "    \n",
    "    for char in x:\n",
    "        if char in vowels:\n",
    "            count += 1\n",
    "    \n",
    "    return count\n",
    "\n",
    "print(vowels(\"hello\"))"
   ]
  },
  {
   "cell_type": "markdown",
   "id": "a9a0ea06",
   "metadata": {},
   "source": [
    "### 5-Write a Python program that creates a list of numbers from 1 to 10. Use a loop to iterate over the list and print each number of power 2."
   ]
  },
  {
   "cell_type": "code",
   "execution_count": 14,
   "id": "6fa658cf",
   "metadata": {
    "ExecuteTime": {
     "end_time": "2023-07-23T21:48:02.328880Z",
     "start_time": "2023-07-23T21:48:02.314313Z"
    }
   },
   "outputs": [
    {
     "name": "stdout",
     "output_type": "stream",
     "text": [
      "1\n",
      "4\n",
      "9\n",
      "16\n",
      "25\n",
      "36\n",
      "49\n",
      "64\n",
      "81\n",
      "100\n"
     ]
    }
   ],
   "source": [
    "lst=[1,2,3,4,5,6,7,8,9,10]\n",
    "for i in lst:\n",
    "    x=i**2\n",
    "    print (x)"
   ]
  },
  {
   "cell_type": "markdown",
   "id": "430c9df9",
   "metadata": {},
   "source": [
    "### 6-Write a Python program that calculates the average grade for a student based on their scores in different subjects. The program should include the following steps:\n",
    "\n",
    "#### 1-Create variables to store the student's name, subject names, and corresponding scores. Initialize the variables with sample data.\n",
    "\n",
    "#### 2-Prompt the user to enter the student's name and assign it to the name variable.\n",
    "\n",
    "#### 3-Use a loop to prompt the user to enter the subject names and corresponding scores. Store the subject names in a list and the scores in another list.\n",
    "\n",
    "#### 4-After collecting the scores, calculate the average grade by summing up all the scores and dividing by the total number of subjects.\n",
    "\n",
    "#### 5-Check if the average grade is above a 70, print a congratulatory message. Otherwise, print an encouragement message."
   ]
  },
  {
   "cell_type": "code",
   "execution_count": 28,
   "id": "e0254271",
   "metadata": {
    "ExecuteTime": {
     "end_time": "2023-07-15T16:16:17.066909Z",
     "start_time": "2023-07-15T16:16:07.636799Z"
    }
   },
   "outputs": [
    {
     "name": "stdout",
     "output_type": "stream",
     "text": [
      "please enter student nameraghad\n",
      "Enter the number of subjects: 3\n",
      "Enter the subject name: ai\n",
      "Enter the score for ai: 98\n",
      "Enter the subject name: DS\n",
      "Enter the score for DS: 95\n",
      "Enter the subject name: DL\n",
      "Enter the score for DL: 90\n",
      "Congratulations, raghad! Your average grade is 94.33 \n"
     ]
    }
   ],
   "source": [
    "st_name=input(\"please enter student name\")\n",
    "\n",
    "st_subject=[]\n",
    "st_score=[]\n",
    "num_subjects = int(input(\"Enter the number of subjects: \"))\n",
    "\n",
    "for _ in range(num_subjects):\n",
    "    subject = input(\"Enter the subject name: \")\n",
    "    score = int(input(f\"Enter the score for {subject}: \"))\n",
    "    st_subject.append(subject)\n",
    "    st_score.append(score)\n",
    "    \n",
    "average_grade = sum(st_score) / len(st_score)\n",
    "if average_grade > 70:\n",
    "    print(f\"Congratulations, {st_name}! Your average grade is {average_grade:.2f} \")\n",
    "else:\n",
    "    print(f\"Keep going, {st_name}. Your average grade is {average_grade:.2f}. \")"
   ]
  },
  {
   "cell_type": "markdown",
   "id": "ae9df360",
   "metadata": {},
   "source": [
    "### 7-Find Common Elements\n",
    "### Write a Python function that takes two lists as input and returns a new list containing the common elements present in both lists."
   ]
  },
  {
   "cell_type": "code",
   "execution_count": 30,
   "id": "d030c3c0",
   "metadata": {
    "ExecuteTime": {
     "end_time": "2023-07-23T22:08:16.794474Z",
     "start_time": "2023-07-23T22:08:16.775639Z"
    }
   },
   "outputs": [
    {
     "name": "stdout",
     "output_type": "stream",
     "text": [
      "Common elements in the two lists: [3, 4, 5]\n"
     ]
    }
   ],
   "source": [
    "def find(list1, list2):\n",
    "    common= list(set(list1) & set(list2))\n",
    "    return common\n",
    "\n",
    "list1 = [1, 2, 3, 4, 5]\n",
    "list2 = [3, 4, 5, 6, 7]\n",
    "result = find(list1, list2)\n",
    "print(\"Common elements in the two lists:\", result)"
   ]
  },
  {
   "cell_type": "markdown",
   "id": "9a2f34cb",
   "metadata": {},
   "source": [
    "### 8-Write a Python function that takes a list of numbers and an element to remove from the list. "
   ]
  },
  {
   "cell_type": "code",
   "execution_count": 33,
   "id": "78de9fe8",
   "metadata": {
    "ExecuteTime": {
     "end_time": "2023-07-23T22:21:36.514592Z",
     "start_time": "2023-07-23T22:21:36.505437Z"
    }
   },
   "outputs": [
    {
     "name": "stdout",
     "output_type": "stream",
     "text": [
      "[2, 3, 5, 7, 9, 7, 5]\n"
     ]
    }
   ],
   "source": [
    "def rem(input_list, element):\n",
    "    new_list = [i for i in input_list if i != element]\n",
    "    return new_list\n",
    "\n",
    "numbers = [2, 3, 5, 8, 7, 8, 9, 7, 5, 8]\n",
    "element = 8\n",
    "print(rem(numbers, element))"
   ]
  },
  {
   "cell_type": "markdown",
   "id": "f1658f3b",
   "metadata": {
    "ExecuteTime": {
     "end_time": "2023-07-23T22:18:08.230185Z",
     "start_time": "2023-07-23T22:18:08.224220Z"
    }
   },
   "source": [
    "### 9-Given 4 numbers A, B, C and D. Print the last 2 digits from their Multiplication.\n",
    "### Example :\n",
    "### the Multiplication of 4 numbers is 5 * 7 * 2 * 4 = 280 so the answer will be the last 2 digits which are 80."
   ]
  },
  {
   "cell_type": "code",
   "execution_count": 45,
   "id": "e3acbe03",
   "metadata": {
    "ExecuteTime": {
     "end_time": "2023-07-23T22:26:11.183016Z",
     "start_time": "2023-07-23T22:26:03.981069Z"
    }
   },
   "outputs": [
    {
     "name": "stdout",
     "output_type": "stream",
     "text": [
      "Last two digits of the multiplication: 80\n"
     ]
    }
   ],
   "source": [
    "def last(A, B, C, D):\n",
    "    product = A * B * C * D\n",
    "    last_two_digits = product % 100  \n",
    "    return last_two_digits\n",
    "A = 5\n",
    "B = 7\n",
    "C = 2\n",
    "D = 4\n",
    "\n",
    "result = last(A, B, C, D)\n",
    "print(\"Last two digits of the multiplication:\", result)"
   ]
  },
  {
   "cell_type": "markdown",
   "id": "d7ab15bb",
   "metadata": {
    "ExecuteTime": {
     "end_time": "2023-07-23T22:26:14.833712Z",
     "start_time": "2023-07-23T22:26:14.819130Z"
    }
   },
   "source": [
    "### 10- Given a number X. Determine if the number is prime or not"
   ]
  },
  {
   "cell_type": "code",
   "execution_count": 40,
   "id": "59b27f0a",
   "metadata": {
    "ExecuteTime": {
     "end_time": "2023-07-23T22:35:25.933766Z",
     "start_time": "2023-07-23T22:35:24.168681Z"
    }
   },
   "outputs": [
    {
     "name": "stdout",
     "output_type": "stream",
     "text": [
      "17 is a prime number.\n"
     ]
    }
   ],
   "source": [
    "def prime(x):\n",
    "    if x % 2 == 0 or x % 3 == 0:\n",
    "        return False\n",
    "    i = 5\n",
    "    while i * i <= x:\n",
    "        if x % i == 0 or x % (i + 2) == 0:\n",
    "            return False\n",
    "        i += 6\n",
    "    return True\n",
    "\n",
    "X = 17\n",
    "if prime(X):\n",
    "    print(f\"{X} is a prime number.\")\n",
    "else:\n",
    "    print(f\"{X} is not a prime number.\")"
   ]
  },
  {
   "cell_type": "markdown",
   "id": "e1d1dcf9",
   "metadata": {},
   "source": [
    "### 11- Given a number N and a list A of N numbers. Determine if the number X exists in array A or not and print its position (0-index)."
   ]
  },
  {
   "cell_type": "code",
   "execution_count": 36,
   "id": "2b002b0e",
   "metadata": {
    "ExecuteTime": {
     "end_time": "2023-07-23T22:53:41.474835Z",
     "start_time": "2023-07-23T22:53:41.458293Z"
    }
   },
   "outputs": [
    {
     "name": "stdout",
     "output_type": "stream",
     "text": [
      "The number 5 does not exist in the list.\n"
     ]
    }
   ],
   "source": [
    "def find(N, A, X):\n",
    "    if X in A:\n",
    "        position = A.index(X)\n",
    "        print(f\"The number {X} exists in the list at position {position}.\")\n",
    "    else:\n",
    "        print(f\"The number {X} does not exist in the list.\")\n",
    "\n",
    "\n",
    "N = 5\n",
    "A = [10, 20, 30, 40, 50]\n",
    "X = 5\n",
    "find(N, A, X)"
   ]
  },
  {
   "cell_type": "markdown",
   "id": "f2ec854b",
   "metadata": {},
   "source": [
    "### 12- Given a number N and a list A of N numbers. Determine if the array is lucky or not.\n",
    "\n",
    "#### Note: the array is lucky if the frequency (number of occurrence) of the minimum element is odd."
   ]
  },
  {
   "cell_type": "code",
   "execution_count": 8,
   "id": "0c4f7f4b",
   "metadata": {
    "ExecuteTime": {
     "end_time": "2023-07-23T23:02:02.490192Z",
     "start_time": "2023-07-23T23:02:02.476874Z"
    }
   },
   "outputs": [
    {
     "name": "stdout",
     "output_type": "stream",
     "text": [
      "True\n",
      "False\n"
     ]
    }
   ],
   "source": [
    "def lucky(N, A):\n",
    "    min_element = min(A)\n",
    "    min_freq = A.count(min_element)\n",
    "    return min_freq % 2 != 0\n",
    "\n",
    "N = 5\n",
    "A = [1, 2, 3, 4, 5]\n",
    "print(lucky(N, A))  \n",
    "\n",
    "N = 3\n",
    "A = [1, 1, 3]\n",
    "print(lucky(N, A))  "
   ]
  },
  {
   "cell_type": "markdown",
   "id": "e1ce1ae5",
   "metadata": {},
   "source": [
    "### 13-Given a number N and a list A of N numbers. Print the array after doing the following operations:\n",
    "\n",
    "#### Find minimum number in these numbers.\n",
    "#### Find maximum number in these numbers.\n",
    "##### Swap minimum number with maximum number."
   ]
  },
  {
   "cell_type": "code",
   "execution_count": 10,
   "id": "e0d6e639",
   "metadata": {
    "ExecuteTime": {
     "end_time": "2023-07-23T23:10:04.293733Z",
     "start_time": "2023-07-23T23:10:04.280256Z"
    }
   },
   "outputs": [
    {
     "name": "stdout",
     "output_type": "stream",
     "text": [
      "[1, 2, 3, 4, 5]\n"
     ]
    }
   ],
   "source": [
    "def swap(N, A):\n",
    "    min_num = min(A)\n",
    "    max_num = max(A)\n",
    "    A[A.index(min_num)] = max_num\n",
    "    A[A.index(max_num)] = min_num\n",
    "    \n",
    "    return A\n",
    "\n",
    "\n",
    "N = 5\n",
    "A = [1, 2, 3, 4, 5]\n",
    "print(swap(N, A))  "
   ]
  },
  {
   "cell_type": "markdown",
   "id": "9eb8e9c5",
   "metadata": {
    "ExecuteTime": {
     "end_time": "2023-07-23T23:10:06.436833Z",
     "start_time": "2023-07-23T23:10:06.422086Z"
    }
   },
   "source": [
    "### 14-Given a number N and an array A of N numbers. Print the lowest number and its position.\n",
    "\n",
    "### Note: if there are more than one answer print first one's position."
   ]
  },
  {
   "cell_type": "code",
   "execution_count": 14,
   "id": "018e01c8",
   "metadata": {
    "ExecuteTime": {
     "end_time": "2023-07-23T23:20:38.498527Z",
     "start_time": "2023-07-23T23:20:38.490451Z"
    }
   },
   "outputs": [
    {
     "name": "stdout",
     "output_type": "stream",
     "text": [
      "(1, 0)\n",
      "(1, 4)\n"
     ]
    }
   ],
   "source": [
    "def find(N, A):\n",
    "    lowest_num = min(A)\n",
    "    lowest_pos = A.index(lowest_num)\n",
    "    \n",
    "    return lowest_num, lowest_pos\n",
    "\n",
    "N = 5\n",
    "A = [1, 2, 3, 4, 5]\n",
    "print(find(N, A))  \n",
    "N = 5\n",
    "A = [5, 4, 3, 2, 1]\n",
    "print(find(N, A)) "
   ]
  },
  {
   "cell_type": "markdown",
   "id": "f35d3427",
   "metadata": {
    "ExecuteTime": {
     "end_time": "2023-07-23T23:20:55.880128Z",
     "start_time": "2023-07-23T23:20:55.861804Z"
    }
   },
   "source": [
    "### 15-Given a number N and an array A of N numbers. Print the numbers after sorting them"
   ]
  },
  {
   "cell_type": "code",
   "execution_count": 15,
   "id": "c2770136",
   "metadata": {},
   "outputs": [
    {
     "name": "stdout",
     "output_type": "stream",
     "text": [
      "[1, 2, 3, 4, 5]\n",
      "[1, 1, 3]\n"
     ]
    }
   ],
   "source": [
    "def sort(N, A):\n",
    "    A.sort()\n",
    "    \n",
    "    return A\n",
    "\n",
    "\n",
    "N = 5\n",
    "A = [1, 2, 3, 4, 5]\n",
    "print(sort(N, A))  \n",
    "N = 3\n",
    "A = [1, 1, 3]\n",
    "print(sort(N, A)) "
   ]
  },
  {
   "cell_type": "markdown",
   "id": "a172f354",
   "metadata": {
    "ExecuteTime": {
     "end_time": "2023-07-23T23:46:15.127981Z",
     "start_time": "2023-07-23T23:46:15.108766Z"
    }
   },
   "source": [
    "### 16- Write a Python program to remove spaces from a given string"
   ]
  },
  {
   "cell_type": "code",
   "execution_count": 1,
   "id": "36d3569d",
   "metadata": {
    "ExecuteTime": {
     "end_time": "2023-07-23T23:50:06.443640Z",
     "start_time": "2023-07-23T23:50:01.592919Z"
    }
   },
   "outputs": [
    {
     "name": "stdout",
     "output_type": "stream",
     "text": [
      "Enter a string with spaces: ragh ad ahm edd\n",
      "String without spaces: raghadahmedd\n"
     ]
    }
   ],
   "source": [
    "def spaces(s):\n",
    "    return s.replace(\" \", \"\")\n",
    "\n",
    "input_string = input(\"Enter a string with spaces: \")\n",
    "print(\"String without spaces:\",spaces(input_string))"
   ]
  },
  {
   "cell_type": "markdown",
   "id": "a5470d49",
   "metadata": {},
   "source": [
    "### 17-write a Python program to swap first and last element of any list."
   ]
  },
  {
   "cell_type": "code",
   "execution_count": 34,
   "id": "9d73887b",
   "metadata": {
    "ExecuteTime": {
     "end_time": "2023-07-23T23:50:59.283429Z",
     "start_time": "2023-07-23T23:50:59.272096Z"
    }
   },
   "outputs": [
    {
     "name": "stdout",
     "output_type": "stream",
     "text": [
      "dahgar\n"
     ]
    }
   ],
   "source": [
    "def word (x):\n",
    "    y=x[::-1]\n",
    "    print(y)\n",
    "    \n",
    "word(\"raghad\")"
   ]
  },
  {
   "cell_type": "code",
   "execution_count": null,
   "id": "faa49913",
   "metadata": {
    "ExecuteTime": {
     "end_time": "2023-07-23T23:51:31.917164Z",
     "start_time": "2023-07-23T23:51:31.900550Z"
    }
   },
   "outputs": [],
   "source": []
  }
 ],
 "metadata": {
  "kernelspec": {
   "display_name": "Python 3 (ipykernel)",
   "language": "python",
   "name": "python3"
  },
  "language_info": {
   "codemirror_mode": {
    "name": "ipython",
    "version": 3
   },
   "file_extension": ".py",
   "mimetype": "text/x-python",
   "name": "python",
   "nbconvert_exporter": "python",
   "pygments_lexer": "ipython3",
   "version": "3.11.5"
  }
 },
 "nbformat": 4,
 "nbformat_minor": 5
}
