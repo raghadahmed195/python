{
 "cells": [
  {
   "cell_type": "markdown",
   "id": "71c4b677",
   "metadata": {},
   "source": [
    "# raghad ahmed"
   ]
  },
  {
   "cell_type": "markdown",
   "id": "759d04ba",
   "metadata": {},
   "source": [
    "**1-Write a Python program to calculate the length of a string using 2 ways"
   ]
  },
  {
   "cell_type": "code",
   "execution_count": 6,
   "id": "e434c950",
   "metadata": {},
   "outputs": [
    {
     "name": "stdout",
     "output_type": "stream",
     "text": [
      "enter string raghad\n",
      "6\n"
     ]
    }
   ],
   "source": [
    "x=input(\"enter string \")\n",
    "y=len(x)\n",
    "print(y)"
   ]
  },
  {
   "cell_type": "code",
   "execution_count": 7,
   "id": "1f638908",
   "metadata": {},
   "outputs": [
    {
     "name": "stdout",
     "output_type": "stream",
     "text": [
      "5\n"
     ]
    }
   ],
   "source": [
    "def cal_len(x):\n",
    "    y=0\n",
    "    for i in x:\n",
    "        y+=1\n",
    "    return y\n",
    "\n",
    "print(cal_len(\"raghd\"))"
   ]
  },
  {
   "cell_type": "markdown",
   "id": "d7cc9da7",
   "metadata": {},
   "source": [
    "**2-Write a Python program to get a string made of the first 2 and last 2 characters of a given string. If the string length is less than 2, return the empty string instead (\"##Sample String : 'w3resource'\n",
    "Expected Result : 'w3ce'\n",
    "##Sample String : 'w3'\n",
    "Expected Result : 'w3w3'\n",
    "##Sample String : ' w'\n",
    "Expected Result : Empty String)"
   ]
  },
  {
   "cell_type": "code",
   "execution_count": 9,
   "id": "dafa9dd8",
   "metadata": {},
   "outputs": [
    {
     "name": "stdout",
     "output_type": "stream",
     "text": [
      "enter string raghad\n",
      "raad\n"
     ]
    }
   ],
   "source": [
    "x=input(\"enter string \")\n",
    "if x!=\"\":\n",
    "    y=x[:2]+x[-2:]\n",
    "    print(y)\n",
    "else:\n",
    "    print(\"string less than 2 char\")"
   ]
  },
  {
   "cell_type": "markdown",
   "id": "1534f956",
   "metadata": {},
   "source": [
    "**3-Write a Python program to add 'ing' at the end of a given string (length should be at least 3). If the given string already ends with 'ing', add 'ly' instead. If the string length of the given string is less than 3, leave it unchanged. (Sample String : 'abc'\n",
    "Expected Result : 'abcing')"
   ]
  },
  {
   "cell_type": "code",
   "execution_count": 11,
   "id": "e0de7141",
   "metadata": {},
   "outputs": [
    {
     "name": "stdout",
     "output_type": "stream",
     "text": [
      "enter stringabc\n",
      "abcing\n"
     ]
    }
   ],
   "source": [
    "x=input(\"enter string\")\n",
    "y=len(x)\n",
    "if y>=3:\n",
    "    if x[-3:]==\"ing\":\n",
    "        x+=\"ly\"\n",
    "    else:\n",
    "        x+=\"ing\"\n",
    "    print(x)\n",
    "else:\n",
    "    print(x)"
   ]
  },
  {
   "cell_type": "markdown",
   "id": "1c0a6627",
   "metadata": {},
   "source": [
    "**4-Write a Python function that takes a list of words and return the longest word and the length of the longest one\n",
    "(Longest word: Exercises\n",
    "Length of the longest word: 9)"
   ]
  },
  {
   "cell_type": "code",
   "execution_count": 20,
   "id": "397341d9",
   "metadata": {},
   "outputs": [
    {
     "name": "stdout",
     "output_type": "stream",
     "text": [
      "[(6, 'raghad')]\n"
     ]
    }
   ],
   "source": [
    "def long(x):\n",
    "    len_list=[]\n",
    "    for i in x:\n",
    "        len_list.append((len(i),i))\n",
    "    len_list.sort()\n",
    "    print(len_list[-1:])\n",
    "        \n",
    "         \n",
    "        \n",
    "long([\"raghad\",\"ahmed\",\"gad\"])"
   ]
  },
  {
   "cell_type": "markdown",
   "id": "53a03a6a",
   "metadata": {},
   "source": [
    "**5-Write a Python program to change a given string to a newly string where the first and last chars have been exchanged using 2 ways (Sample String:abca  Expected Result:ebce)"
   ]
  },
  {
   "cell_type": "code",
   "execution_count": 28,
   "id": "285788b4",
   "metadata": {},
   "outputs": [
    {
     "name": "stdout",
     "output_type": "stream",
     "text": [
      "ebce\n"
     ]
    }
   ],
   "source": [
    "def exchangee (X,n):\n",
    "    y=n +x[1:-1]+ n\n",
    "    print(y)\n",
    "\n",
    "exchangee(\"abca\",\"e\")"
   ]
  },
  {
   "cell_type": "markdown",
   "id": "25f89808",
   "metadata": {},
   "source": [
    "**6-Write a Python program to remove characters that have odd index values in a given string (Sample String:abca Expected Result:ac)"
   ]
  },
  {
   "cell_type": "code",
   "execution_count": 36,
   "id": "05959bd7",
   "metadata": {},
   "outputs": [
    {
     "name": "stdout",
     "output_type": "stream",
     "text": [
      "enter stringabca\n",
      "ac\n"
     ]
    }
   ],
   "source": [
    "x=input(\"enter string\")\n",
    "y=\"\"\n",
    "for i in range (len(x)):\n",
    "    if i%2==0:\n",
    "        y=y+x[i]\n",
    "print(y)        "
   ]
  },
  {
   "cell_type": "markdown",
   "id": "eb16e898",
   "metadata": {},
   "source": [
    "**7-Write a Python program to count the occurrences of each word in a given sentence (Sample String:amr and ahmed are frindes but amr is the tallest Expected Result:2)"
   ]
  },
  {
   "cell_type": "code",
   "execution_count": 56,
   "id": "01ce6cf5",
   "metadata": {},
   "outputs": [
    {
     "name": "stdout",
     "output_type": "stream",
     "text": [
      "enter sentanceamr and ahmed are frindes but amr is the tallest\n",
      "2\n",
      "1\n",
      "1\n",
      "1\n",
      "1\n",
      "1\n",
      "1\n",
      "1\n",
      "1\n"
     ]
    }
   ],
   "source": [
    "x=input(\"enter sentance\")\n",
    "words=x.split()\n",
    "unique=[]\n",
    "for i in words:\n",
    "        if i not in unique:\n",
    "            unique.append(i)\n",
    "            count = words.count(i)\n",
    "            print(count)\n"
   ]
  },
  {
   "cell_type": "markdown",
   "id": "4e8125f1",
   "metadata": {},
   "source": [
    "**8-Write a Python script that takes input from the user and displays that input back in upper and lower cases"
   ]
  },
  {
   "cell_type": "code",
   "execution_count": 40,
   "id": "66c8f778",
   "metadata": {},
   "outputs": [
    {
     "name": "stdout",
     "output_type": "stream",
     "text": [
      "enter stringraghad\n",
      "word in uppercase RAGHAD\n",
      "word in lowercase raghad\n"
     ]
    }
   ],
   "source": [
    "x=input(\"enter string\")\n",
    "print(\"word in uppercase\",x.upper())\n",
    "print(\"word in lowercase\",x.lower())"
   ]
  },
  {
   "cell_type": "markdown",
   "id": "fcd68aa1",
   "metadata": {},
   "source": [
    "**9-Write a Python function to reverse a string if its length is a multiple of 4"
   ]
  },
  {
   "cell_type": "code",
   "execution_count": 46,
   "id": "0671a931",
   "metadata": {},
   "outputs": [
    {
     "name": "stdout",
     "output_type": "stream",
     "text": [
      "lenghth isnot multiple of 4\n",
      "hgar\n"
     ]
    }
   ],
   "source": [
    "def rev (x):\n",
    "    if len(x)%4==0:\n",
    "        y=x[::-1]\n",
    "        print(y)\n",
    "    else:\n",
    "        print(\"lenghth isnot multiple of 4\")\n",
    "        \n",
    "rev(\"raghad\")       \n",
    "rev(\"ragh\")"
   ]
  },
  {
   "cell_type": "markdown",
   "id": "b577c68d",
   "metadata": {},
   "source": [
    "**10- Write a Python program to remove a newline in Python"
   ]
  },
  {
   "cell_type": "code",
   "execution_count": 61,
   "id": "d434912f",
   "metadata": {},
   "outputs": [
    {
     "name": "stdout",
     "output_type": "stream",
     "text": [
      "raghad,ahmed\n"
     ]
    }
   ],
   "source": [
    "x=\"raghad,\\nahmed\"\n",
    "string_without_new_line=x.replace(\"\\n\",\"\")\n",
    "\n",
    "print(string_without_new_line)"
   ]
  },
  {
   "cell_type": "markdown",
   "id": "80db5ae0",
   "metadata": {},
   "source": [
    "**11-Write a Python program to check whether a string starts with specified characters"
   ]
  },
  {
   "cell_type": "code",
   "execution_count": 47,
   "id": "0cc4e03e",
   "metadata": {},
   "outputs": [
    {
     "name": "stdout",
     "output_type": "stream",
     "text": [
      "enter stringraghad\n",
      "enter specific charr\n",
      "starts with specific char\n"
     ]
    }
   ],
   "source": [
    "x=input(\"enter string\")\n",
    "y=input(\"enter specific char\")\n",
    "if x[0]==y:\n",
    "    print(\"starts with specific char\")\n",
    "else :\n",
    "    print(\"string isnot starts with specific char\")"
   ]
  },
  {
   "cell_type": "markdown",
   "id": "593a68db",
   "metadata": {},
   "source": [
    "**12- Write a Python program to add prefix text to all of the lines in a string"
   ]
  },
  {
   "cell_type": "code",
   "execution_count": 65,
   "id": "d2e46ada",
   "metadata": {},
   "outputs": [
    {
     "name": "stdout",
     "output_type": "stream",
     "text": [
      "enter stringraghad\n",
      "enter prefixaaa\n",
      "aaaraghad\n"
     ]
    }
   ],
   "source": [
    "x=input(\"enter string\")\n",
    "y=input(\"enter prefix\")\n",
    "lines = x.split('\\n')\n",
    "\n",
    "prefixed = [f\"{y}{line}\" for line in lines]\n",
    "\n",
    "result = '\\n'.join(prefixed)\n",
    "\n",
    "print(result)"
   ]
  },
  {
   "cell_type": "markdown",
   "id": "86fa1543",
   "metadata": {},
   "source": [
    "**13-Write a Python program to print the following numbers up to 2 decimal places"
   ]
  },
  {
   "cell_type": "code",
   "execution_count": 9,
   "id": "cd4a9d89",
   "metadata": {},
   "outputs": [
    {
     "name": "stdout",
     "output_type": "stream",
     "text": [
      "enter floating number3.256358\n",
      "3.26\n"
     ]
    }
   ],
   "source": [
    "x=float(input(\"enter floating number\"))\n",
    "print(\"{:.2f}\".format(x))\n"
   ]
  },
  {
   "cell_type": "markdown",
   "id": "452c0ab0",
   "metadata": {},
   "source": [
    "**14-Write a Python program to print the following numbers up to 2 decimal places with a sign"
   ]
  },
  {
   "cell_type": "code",
   "execution_count": 12,
   "id": "73e82479",
   "metadata": {},
   "outputs": [
    {
     "name": "stdout",
     "output_type": "stream",
     "text": [
      "enter floating number-3.5847962\n",
      "-3.58\n"
     ]
    }
   ],
   "source": [
    "x=float(input(\"enter floating number\"))\n",
    "print(\"{:+.2f}\".format(x))"
   ]
  },
  {
   "cell_type": "markdown",
   "id": "32b1811a",
   "metadata": {},
   "source": [
    "**15-Write a Python program to display a number with a comma separator"
   ]
  },
  {
   "cell_type": "code",
   "execution_count": 68,
   "id": "b8f51f06",
   "metadata": {},
   "outputs": [
    {
     "name": "stdout",
     "output_type": "stream",
     "text": [
      "Enter number: 12365258213\n",
      "12,365,258,213\n"
     ]
    }
   ],
   "source": [
    "x = int(input(\"Enter number: \"))\n",
    "after = f\"{x:,}\"\n",
    "print(after)"
   ]
  },
  {
   "cell_type": "markdown",
   "id": "0477f487",
   "metadata": {},
   "source": [
    "**16-Write a Python program to reverse a string using 2 ways"
   ]
  },
  {
   "cell_type": "code",
   "execution_count": 70,
   "id": "aa8beec8",
   "metadata": {},
   "outputs": [
    {
     "name": "stdout",
     "output_type": "stream",
     "text": [
      "enter string: raghad\n",
      "dahgar\n"
     ]
    }
   ],
   "source": [
    "x=input(\"enter string: \")\n",
    "y=x[::-1]\n",
    "print(y)"
   ]
  },
  {
   "cell_type": "code",
   "execution_count": 73,
   "id": "c7a76abf",
   "metadata": {},
   "outputs": [
    {
     "name": "stdout",
     "output_type": "stream",
     "text": [
      "dahgar\n"
     ]
    }
   ],
   "source": [
    "def reverse(x):\n",
    "    x= \"\".join(reversed(x))\n",
    "    return x\n",
    "\n",
    "\n",
    "print(reverse(\"raghad\"))"
   ]
  },
  {
   "cell_type": "markdown",
   "id": "5afc3166",
   "metadata": {},
   "source": [
    " **17-Write a Python program to count repeated characters in a string (hint:use dictionary)"
   ]
  },
  {
   "cell_type": "code",
   "execution_count": null,
   "id": "515a469c",
   "metadata": {},
   "outputs": [],
   "source": []
  },
  {
   "cell_type": "markdown",
   "id": "ae14e4e5",
   "metadata": {},
   "source": [
    "**18-Write a Python program to find the first non-repeating character in a given string"
   ]
  },
  {
   "cell_type": "code",
   "execution_count": null,
   "id": "d73778e5",
   "metadata": {},
   "outputs": [],
   "source": []
  },
  {
   "cell_type": "markdown",
   "id": "3adf5669",
   "metadata": {},
   "source": [
    "**19-Write a Python program to remove spaces from a given string"
   ]
  },
  {
   "cell_type": "code",
   "execution_count": 75,
   "id": "b4f22602",
   "metadata": {},
   "outputs": [
    {
     "name": "stdout",
     "output_type": "stream",
     "text": [
      "Enter string: raghad ahmed gad\n",
      "raghadahmedgad\n"
     ]
    }
   ],
   "source": [
    "x = input(\"Enter string: \")\n",
    "y = x.replace(\" \", \"\")\n",
    "print(y)"
   ]
  },
  {
   "cell_type": "markdown",
   "id": "734de60c",
   "metadata": {},
   "source": [
    "**20-Write a Python program to count the number of non-empty substrings of a given string"
   ]
  },
  {
   "cell_type": "code",
   "execution_count": 14,
   "id": "a6e3d948",
   "metadata": {},
   "outputs": [
    {
     "name": "stdout",
     "output_type": "stream",
     "text": [
      "enter stringraghad ahmed\n",
      "78.0\n"
     ]
    }
   ],
   "source": [
    "x=input(\"enter string\")\n",
    "y=len(x)\n",
    "print(y*(y+1)/2)"
   ]
  },
  {
   "cell_type": "markdown",
   "id": "509998e2",
   "metadata": {},
   "source": [
    "**21-write a Python program to swap first and last element of any list."
   ]
  },
  {
   "cell_type": "code",
   "execution_count": 82,
   "id": "68692d7f",
   "metadata": {},
   "outputs": [
    {
     "name": "stdout",
     "output_type": "stream",
     "text": [
      "r20a5010\n"
     ]
    }
   ],
   "source": [
    "x = [10, 20, \"a\", 50, \"r\"]\n",
    "y = x[-1] + \"\".join(map(str, x[1:-1])) + str(x[0])\n",
    "print(y)"
   ]
  },
  {
   "cell_type": "markdown",
   "id": "b668dbe5",
   "metadata": {},
   "source": [
    "**22-Given a list in Python and provided the positions of the elements, write a program to swap the two elements in the list. (Input : List = [23, 65, 19, 90], pos1 = 1, pos2 = 3 Output : [19, 65, 23, 90])"
   ]
  },
  {
   "cell_type": "code",
   "execution_count": 18,
   "id": "e14098a3",
   "metadata": {},
   "outputs": [
    {
     "name": "stdout",
     "output_type": "stream",
     "text": [
      "[19, 65, 23, 90]\n"
     ]
    }
   ],
   "source": [
    "l= [23, 65, 19, 90]\n",
    "l.insert(0,19)\n",
    "l.pop(1)\n",
    "l.insert(2,23)\n",
    "l.pop(3)\n",
    "print(l)"
   ]
  },
  {
   "cell_type": "markdown",
   "id": "66fc6682",
   "metadata": {},
   "source": [
    "**23- search for the all ways to know the length of the list"
   ]
  },
  {
   "cell_type": "code",
   "execution_count": 20,
   "id": "7a744e9d",
   "metadata": {},
   "outputs": [
    {
     "name": "stdout",
     "output_type": "stream",
     "text": [
      "7\n"
     ]
    }
   ],
   "source": [
    "lst=[10,20,30,0,50,60,70]\n",
    "print(len(lst))"
   ]
  },
  {
   "cell_type": "code",
   "execution_count": 23,
   "id": "52994212",
   "metadata": {},
   "outputs": [
    {
     "name": "stdout",
     "output_type": "stream",
     "text": [
      "8\n"
     ]
    }
   ],
   "source": [
    "lst=[10,20,30,0,50,60,70]\n",
    "for i in lst:\n",
    "     y+=1\n",
    "print(y)       "
   ]
  },
  {
   "cell_type": "markdown",
   "id": "4f0a8edb",
   "metadata": {},
   "source": [
    "**24-write a Python code to find the Maximum number of list of numbers."
   ]
  },
  {
   "cell_type": "code",
   "execution_count": 84,
   "id": "15f342de",
   "metadata": {},
   "outputs": [
    {
     "name": "stdout",
     "output_type": "stream",
     "text": [
      "50\n"
     ]
    }
   ],
   "source": [
    "lst=[10,20,30,50,40,45]\n",
    "print(max(lst))"
   ]
  },
  {
   "cell_type": "markdown",
   "id": "324084c5",
   "metadata": {},
   "source": [
    "**25-write a Python code to find the Minimum number of list of numbers."
   ]
  },
  {
   "cell_type": "code",
   "execution_count": 85,
   "id": "21f8cbd6",
   "metadata": {},
   "outputs": [
    {
     "name": "stdout",
     "output_type": "stream",
     "text": [
      "10\n"
     ]
    }
   ],
   "source": [
    "lst=[10,20,30,50,40,45]\n",
    "print(min(lst))"
   ]
  },
  {
   "cell_type": "markdown",
   "id": "96822d96",
   "metadata": {},
   "source": [
    "**26-search for if an elem is existing in list"
   ]
  },
  {
   "cell_type": "code",
   "execution_count": 89,
   "id": "51ca5c9a",
   "metadata": {},
   "outputs": [
    {
     "name": "stdout",
     "output_type": "stream",
     "text": [
      "doesont exist\n",
      "doesont exist\n",
      "exist\n"
     ]
    }
   ],
   "source": [
    "x=[10,20,30,50]\n",
    "element=30\n",
    "for i in x:\n",
    "    if i==element:\n",
    "        print(\"exist\")\n",
    "        break\n",
    "    else:\n",
    "        print(\"doesont exist\")\n",
    "        "
   ]
  },
  {
   "cell_type": "markdown",
   "id": "d9557da7",
   "metadata": {},
   "source": [
    "**27- clear python list using different ways"
   ]
  },
  {
   "cell_type": "code",
   "execution_count": 95,
   "id": "b69858a3",
   "metadata": {},
   "outputs": [
    {
     "name": "stdout",
     "output_type": "stream",
     "text": [
      "[]\n"
     ]
    }
   ],
   "source": [
    "lst=[10,20,30,50,60,60,70]\n",
    "lst.clear()\n",
    "print(lst)"
   ]
  },
  {
   "cell_type": "markdown",
   "id": "52160e88",
   "metadata": {},
   "source": [
    "**28-remove duplicated elements from a list"
   ]
  },
  {
   "cell_type": "code",
   "execution_count": 92,
   "id": "5e362228",
   "metadata": {},
   "outputs": [
    {
     "name": "stdout",
     "output_type": "stream",
     "text": [
      "[10, 20, 30, 50, 80, 70]\n"
     ]
    }
   ],
   "source": [
    "lst=[10,20,30,10,20,50,80,70,10,20]\n",
    "lst_after=[]\n",
    "for i in lst:\n",
    "    if i not in lst_after:\n",
    "        lst_after.append(i)\n",
    "print(lst_after)"
   ]
  },
  {
   "cell_type": "markdown",
   "id": "282337f7",
   "metadata": {},
   "source": [
    "**29-Given list values and keys list, convert these values to key value pairs in form of list of dictionaries. (Input : test_list = [“Gfg”, 3, “is”, 8], key_list = [“name”, “id”]\n",
    "Output : [{‘name’: ‘Gfg’, ‘id’: 3}, {‘name’: ‘is’, ‘id’: 8}])"
   ]
  },
  {
   "cell_type": "code",
   "execution_count": 35,
   "id": "90dbbc4d",
   "metadata": {},
   "outputs": [
    {
     "name": "stdout",
     "output_type": "stream",
     "text": [
      "[{'name': 'Gfg', 'id': 3}, {'name': 'is', 'id': 8}]\n"
     ]
    }
   ],
   "source": [
    "def convertt(values, keys):\n",
    "    dict_list = []\n",
    "    for i in range(0, len(values), 2):\n",
    "        lst = {keys[0]: values[i], keys[1]: values[i+1]}\n",
    "        dict_list.append(lst)\n",
    "    return dict_list\n",
    "\n",
    "test_list = [\"Gfg\", 3, \"is\", 8]\n",
    "key_list = [\"name\", \"id\"]\n",
    "print(convertt(test_list, key_list))"
   ]
  },
  {
   "cell_type": "markdown",
   "id": "c26b6e9f",
   "metadata": {},
   "source": [
    "**30-write a python program to count unique values inside a list using different ways"
   ]
  },
  {
   "cell_type": "code",
   "execution_count": 40,
   "id": "72132667",
   "metadata": {},
   "outputs": [
    {
     "name": "stdout",
     "output_type": "stream",
     "text": [
      "2\n"
     ]
    }
   ],
   "source": [
    "def search(string, uni_value):\n",
    "    count = 0\n",
    "    for i in string:\n",
    "        if i == uni_value:\n",
    "            count += 1\n",
    "    return count\n",
    "\n",
    "print(search(\"raghad\", \"a\"))  # Output: 2"
   ]
  },
  {
   "cell_type": "markdown",
   "id": "fed6677c",
   "metadata": {},
   "source": [
    "**31-write a python program Extract all elements with Frequency greater than K (Input : test_list = [4, 6, 4, 3, 3, 4, 3, 4, 3, 8], K = 3 \n",
    "Output : [4, 3] )"
   ]
  },
  {
   "cell_type": "code",
   "execution_count": 42,
   "id": "6137621c",
   "metadata": {},
   "outputs": [
    {
     "name": "stdout",
     "output_type": "stream",
     "text": [
      "[3, 4]\n"
     ]
    }
   ],
   "source": [
    "def extract(lst, k):\n",
    "    lst_after = []\n",
    "    for i in set(lst):\n",
    "        if lst.count(i) >= k:\n",
    "            lst_after.append(i)\n",
    "    return lst_after\n",
    "\n",
    "print(extract([4, 6, 4, 3, 3, 4, 3, 4, 3, 8], 3))  "
   ]
  },
  {
   "cell_type": "markdown",
   "id": "caca5224",
   "metadata": {},
   "source": [
    "**32-write a python program to find the Strongest Neighbour (Input: 1 2 2 3 4 5\n",
    "Output: 2 2 3 4 5)"
   ]
  },
  {
   "cell_type": "code",
   "execution_count": null,
   "id": "39fbd9b2",
   "metadata": {},
   "outputs": [],
   "source": []
  },
  {
   "cell_type": "markdown",
   "id": "a9fa8baf",
   "metadata": {},
   "source": [
    "**33-write a Python Program to print all Possible Combinations from the three Digits (Input: [1, 2, 3]\n",
    "Output:\n",
    "1 2 3 ##\n",
    "1 3 2 ##\n",
    "2 1 3 ##\n",
    "2 3 1 ##\n",
    "3 1 2 ##\n",
    "3 2 1)"
   ]
  },
  {
   "cell_type": "code",
   "execution_count": 43,
   "id": "8c520a76",
   "metadata": {},
   "outputs": [
    {
     "name": "stdout",
     "output_type": "stream",
     "text": [
      "1 2 3\n",
      "1 3 2\n",
      "2 1 3\n",
      "2 3 1\n",
      "3 1 2\n",
      "3 2 1\n"
     ]
    }
   ],
   "source": [
    "def combination(x): \n",
    "    for i in range(3): \n",
    "        for j in range(3): \n",
    "            for k in range(3): \n",
    "                if (i!=j and j!=k and i!=k): \n",
    "                    print(x[i], x[j], x[k]) \n",
    "                      \n",
    "combination([1, 2, 3])"
   ]
  },
  {
   "cell_type": "markdown",
   "id": "5288bb89",
   "metadata": {},
   "source": [
    "**34-write a Python program to find all the Combinations in the list with the given condition (Input: test_list = [1,2,3] \n",
    "Output: \n",
    " [1], [1, 2], [1, 2, 3], [1, 3]\n",
    " [2], [2, 3], [3])"
   ]
  },
  {
   "cell_type": "code",
   "execution_count": null,
   "id": "59b89646",
   "metadata": {},
   "outputs": [],
   "source": []
  },
  {
   "cell_type": "markdown",
   "id": "39973705",
   "metadata": {},
   "source": [
    "**35-write a Python program to get all unique combinations of two Lists (List_1 = [\"a\",\"b\"]\n",
    "List_2 = [1,2]\n",
    "Unique_combination = [[('a',1),('b',2)],[('a',2),('b',1)]] )"
   ]
  },
  {
   "cell_type": "code",
   "execution_count": null,
   "id": "8c4ba22b",
   "metadata": {},
   "outputs": [],
   "source": []
  },
  {
   "cell_type": "markdown",
   "id": "25199af5",
   "metadata": {},
   "source": [
    "**36-Remove all the occurrences of an element from a list in Python (Input : 1 1 2 3 4 5 1 2 1 \n",
    "\n",
    "**Output : 2 3 4 5 2)"
   ]
  },
  {
   "cell_type": "code",
   "execution_count": 45,
   "id": "6dc4c2ba",
   "metadata": {
    "scrolled": false
   },
   "outputs": [
    {
     "data": {
      "text/plain": [
       "[2, 3, 4, 5, 2]"
      ]
     },
     "execution_count": 45,
     "metadata": {},
     "output_type": "execute_result"
    }
   ],
   "source": [
    "def specific_element(lst,element):\n",
    "    lst_after=[]\n",
    "    for i in  lst:\n",
    "        if i!=element:\n",
    "            lst_after.append(i)\n",
    "    return lst_after\n",
    "specific_element([1,1,2,3,4,5,1,2,1],1)"
   ]
  },
  {
   "cell_type": "markdown",
   "id": "bf1a3c93",
   "metadata": {},
   "source": [
    "**37-write a python program to Replace index elements with elements in Other List (The original list 1 is : [‘Gfg’, ‘is’, ‘best’] The original list 2 is : [0, 1, 2, 1, 0, 0, 0, 2, 1, 1, 2, 0] The lists after index elements replacements is : [‘Gfg’, ‘is’, ‘best’, ‘is’, ‘Gfg’, ‘Gfg’, ‘Gfg’, ‘best’, ‘is’, ‘is’, ‘best’, ‘Gfg’])"
   ]
  },
  {
   "cell_type": "code",
   "execution_count": 2,
   "id": "fdd66a71",
   "metadata": {},
   "outputs": [
    {
     "name": "stdout",
     "output_type": "stream",
     "text": [
      "['Gfg', 'is', 'best', 'is', 'Gfg', 'Gfg', 'Gfg', 'best', 'is', 'is', 'best', 'Gfg']\n"
     ]
    }
   ],
   "source": [
    "lst1 = ['Gfg', 'is', 'best']\n",
    "lst2 = [0, 1, 2, 1, 0, 0, 0, 2, 1, 1, 2, 0]\n",
    "  \n",
    "\n",
    "y=[lst1[idx] for idx in lst2]\n",
    "             \n",
    "print ( str(y))"
   ]
  },
  {
   "cell_type": "markdown",
   "id": "af0f56e8",
   "metadata": {},
   "source": [
    "**38- write python program to Retain records with N occurrences of K(Input : test_list = [(4, 5, 5, 4), (5, 4, 3)], K = 5, N = 2 \n",
    "Output : [(4, 5, 5, 4)]\n",
    "Input : test_list = [(4, 5, 5, 4), (5, 4, 3)], K = 5, N = 3 \n",
    "Output : [] )"
   ]
  },
  {
   "cell_type": "code",
   "execution_count": 5,
   "id": "73f570c9",
   "metadata": {},
   "outputs": [
    {
     "name": "stdout",
     "output_type": "stream",
     "text": [
      "[(4, 5, 5, 4)]\n"
     ]
    }
   ],
   "source": [
    "def xx(test_list, k, n):\n",
    "    lst_after = []\n",
    "    for i in test_list:\n",
    "        count = i.count(k)\n",
    "        if count == n:\n",
    "            lst_after.append(i)\n",
    "    return lst_after\n",
    "\n",
    "print(xx([(4, 5, 5, 4), (5, 4, 3)],5,2))"
   ]
  },
  {
   "cell_type": "markdown",
   "id": "de76f183",
   "metadata": {},
   "source": [
    "**39-write a Python Program to Sort the list according to the column using lambda\n",
    "array = [[1, 3, 3], [2, 1, 2], [3, 2, 1]]\n",
    "Output :\n",
    "Sorted array specific to column 0, [[1, 3, 3], [2, 1, 2], [3, 2, 1]]\n",
    "Sorted array specific to column 1, [[2, 1, 2], [3, 2, 1], [1, 3, 3]]\n",
    "Sorted array specific to column 2, [[3, 2, 1], [2, 1, 2], [1, 3, 3]]"
   ]
  },
  {
   "cell_type": "code",
   "execution_count": 8,
   "id": "dc883308",
   "metadata": {},
   "outputs": [
    {
     "name": "stdout",
     "output_type": "stream",
     "text": [
      "[[1, 3, 3], [2, 1, 2], [3, 2, 1]]\n"
     ]
    }
   ],
   "source": [
    "def sort(lst):\n",
    "\n",
    "    result = sorted(lst, key=lambda l: (len(l), l))\n",
    "    return result\n",
    "\n",
    "listt = [[1, 3, 3], [2, 1, 2], [3, 2, 1]]\n",
    "\n",
    "\n",
    "print(sort(listt))\n"
   ]
  },
  {
   "cell_type": "markdown",
   "id": "c93fbe26",
   "metadata": {},
   "source": [
    "**40- write a program to Sort Python Dictionaries by Key or Value\n",
    "Input:\n",
    "{'ravi': 10, 'rajnish': 9, 'sanjeev': 15, 'yash': 2, 'suraj': 32}\n",
    "\n",
    "Output: \n",
    "{'rajnish': 9, 'ravi': 10, 'sanjeev': 15, 'suraj': 32, 'yash': 2}"
   ]
  },
  {
   "cell_type": "code",
   "execution_count": 11,
   "id": "a96db4a0",
   "metadata": {},
   "outputs": [
    {
     "name": "stdout",
     "output_type": "stream",
     "text": [
      "[('rajnish', 9), ('ravi', 10), ('sanjeev', 15), ('suraj', 32), ('yash', 2)]\n",
      "{'rajnish': 9, 'ravi': 10, 'sanjeev': 15, 'suraj': 32, 'yash': 2}\n"
     ]
    }
   ],
   "source": [
    "#by keyy\n",
    "\n",
    "dictt = {'ravi': 10, 'rajnish': 9, 'sanjeev': 15, 'yash': 2, 'suraj': 32}\n",
    "sortedd = sorted(dictt.items(), key=lambda x: x[0])\n",
    "print(sortedd)\n",
    "\n",
    "sortedd = dict(sortedd)\n",
    "print(sortedd)\n"
   ]
  },
  {
   "cell_type": "code",
   "execution_count": 12,
   "id": "7b7e81c7",
   "metadata": {},
   "outputs": [
    {
     "name": "stdout",
     "output_type": "stream",
     "text": [
      "[('yash', 2), ('rajnish', 9), ('ravi', 10), ('sanjeev', 15), ('suraj', 32)]\n",
      "{'yash': 2, 'rajnish': 9, 'ravi': 10, 'sanjeev': 15, 'suraj': 32}\n"
     ]
    }
   ],
   "source": [
    "## by balue\n",
    "dictt = {'ravi': 10, 'rajnish': 9, 'sanjeev': 15, 'yash': 2, 'suraj': 32}\n",
    "sortedd = sorted(dictt.items(), key=lambda x: x[1])\n",
    "print(sortedd)\n",
    "\n",
    "sortedd = dict(sortedd)\n",
    "print(sortedd)\n"
   ]
  },
  {
   "cell_type": "markdown",
   "id": "ec63c23a",
   "metadata": {},
   "source": [
    "**41-write python program to Remove keys with Values Greater than K ( Including mixed values )\n",
    "nput : test_dict = {‘Gfg’ : 3, ‘is’ : 7, ‘best’ : 10, ‘for’ : 6, ‘geeks’ : ‘CS’},\n",
    "K = 7 \n",
    "Output : {‘Gfg’ : 3, ‘for’ : 6, ‘geeks’ : ‘CS’}"
   ]
  },
  {
   "cell_type": "code",
   "execution_count": 14,
   "id": "e39c3a40",
   "metadata": {},
   "outputs": [
    {
     "name": "stdout",
     "output_type": "stream",
     "text": [
      "{'Gfg': 3, 'for': 6, 'geeks': 'CS'}\n"
     ]
    }
   ],
   "source": [
    "dictt = {'Gfg' : 3, 'is' : 7, 'best' : 10, 'for' : 6, 'geeks' : 'CS'} \n",
    "K = 6\n",
    "\n",
    "dict_after = {}\n",
    "for key in dictt:\n",
    "    if not (isinstance(dictt[key], int) and dictt[key] > K):\n",
    "        dict_after[key] = dictt[key]\n",
    "        \n",
    "\n",
    "\n",
    "print(dict_after)\n"
   ]
  },
  {
   "cell_type": "markdown",
   "id": "f143f0fe",
   "metadata": {},
   "source": [
    "**42-Write a Python program to concatenate the following dictionaries to create a new one\n",
    "\n",
    "Sample Dictionary :\n",
    "dic1={1:10, 2:20}\n",
    "dic2={3:30, 4:40}\n",
    "dic3={5:50,6:60}\n",
    "Expected Result : {1: 10, 2: 20, 3: 30, 4: 40, 5: 50, 6: 60}"
   ]
  },
  {
   "cell_type": "code",
   "execution_count": 15,
   "id": "74ffdfea",
   "metadata": {},
   "outputs": [
    {
     "name": "stdout",
     "output_type": "stream",
     "text": [
      "{1: 10, 2: 20, 3: 30, 4: 40, 5: 50, 6: 60}\n"
     ]
    }
   ],
   "source": [
    "dic1={1:10, 2:20}\n",
    "dic2={3:30, 4:40}\n",
    "dic3={5:50,6:60} \n",
    "dic1.update(dic2)\n",
    "dic1.update(dic3)\n",
    "print(dic1)"
   ]
  },
  {
   "cell_type": "markdown",
   "id": "fb04c93c",
   "metadata": {},
   "source": [
    "**43-Write a Python program to iterate over dictionaries using for loops"
   ]
  },
  {
   "cell_type": "code",
   "execution_count": 18,
   "id": "6aebc470",
   "metadata": {},
   "outputs": [
    {
     "name": "stdout",
     "output_type": "stream",
     "text": [
      "1 10\n",
      "2 20\n",
      "3 30\n",
      "4 40\n",
      "5 50\n",
      "6 60\n"
     ]
    }
   ],
   "source": [
    "dictt={1: 10, 2: 20, 3: 30, 4: 40, 5: 50, 6: 60}\n",
    "for  i,x in dictt.items():\n",
    "    print (i,x)"
   ]
  },
  {
   "cell_type": "markdown",
   "id": "5f491a9d",
   "metadata": {},
   "source": [
    "**44- Write a Python script to merge two Python dictionaries"
   ]
  },
  {
   "cell_type": "code",
   "execution_count": 22,
   "id": "b8a14028",
   "metadata": {},
   "outputs": [
    {
     "name": "stdout",
     "output_type": "stream",
     "text": [
      "enter first dictionary{1:10,2:20,3:30}\n",
      "enter second dictionary{3:33,4:40,5:56}\n",
      "{1: 10, 2: 20, 3: 33, 4: 40, 5: 56}\n"
     ]
    }
   ],
   "source": [
    "dict1=input(\"enter first dictionary\")\n",
    "dict2=input(\"enter second dictionary\")\n",
    "dict11=eval(dict1)\n",
    "dict22=eval(dict2)\n",
    "dict11.update(dict22)\n",
    "print(dict11)"
   ]
  },
  {
   "cell_type": "markdown",
   "id": "216fc72d",
   "metadata": {},
   "source": [
    "**45-Write a Python program to get the maximum and minimum values of a dictionary values"
   ]
  },
  {
   "cell_type": "code",
   "execution_count": 24,
   "id": "d6883f5f",
   "metadata": {},
   "outputs": [
    {
     "name": "stdout",
     "output_type": "stream",
     "text": [
      "5\n",
      "1\n"
     ]
    }
   ],
   "source": [
    "dictt={1: 10, 2: 20, 3: 33, 4: 40, 5: 56}\n",
    "print(max(dictt))\n",
    "print(min(dictt))"
   ]
  },
  {
   "cell_type": "markdown",
   "id": "b6a53011",
   "metadata": {},
   "source": [
    "**46- Write a Python program to drop empty items from a given dictionary.\n",
    "Original Dictionary:\n",
    "{'c1': 'Red', 'c2': 'Green', 'c3': None}\n",
    "New Dictionary after dropping empty items:\n",
    "{'c1': 'Red', 'c2': 'Green'}"
   ]
  },
  {
   "cell_type": "code",
   "execution_count": 31,
   "id": "b5c6fecf",
   "metadata": {},
   "outputs": [
    {
     "name": "stdout",
     "output_type": "stream",
     "text": [
      "{'Red': 'c1', 'Green': 'c2', None: 'c3'}\n"
     ]
    }
   ],
   "source": [
    "dictt={'c1': 'Red', 'c2': 'Green', 'c3': None}\n",
    "dictt_after={}\n",
    "for value,key in dictt.items():\n",
    "    if value:\n",
    "        dictt_after[key]=value\n",
    "        \n",
    "\n",
    "print(dictt_after)       "
   ]
  },
  {
   "cell_type": "markdown",
   "id": "46d718c7",
   "metadata": {},
   "source": [
    "**47-Write a Python program to create a tuple of numbers and print one item"
   ]
  },
  {
   "cell_type": "code",
   "execution_count": 34,
   "id": "13216ff5",
   "metadata": {},
   "outputs": [
    {
     "name": "stdout",
     "output_type": "stream",
     "text": [
      "1\n"
     ]
    }
   ],
   "source": [
    "tpl=(1,2,3,5,9,7,8)\n",
    "print(tpl[0])"
   ]
  },
  {
   "cell_type": "markdown",
   "id": "2be5b56b",
   "metadata": {},
   "source": [
    "**48-Write a Python program to unpack a tuple into several variables"
   ]
  },
  {
   "cell_type": "code",
   "execution_count": 35,
   "id": "595f44be",
   "metadata": {},
   "outputs": [
    {
     "name": "stdout",
     "output_type": "stream",
     "text": [
      "1\n",
      "2\n",
      "3\n",
      "5\n"
     ]
    }
   ],
   "source": [
    "tpl=(1,2,3,5)\n",
    "a,b,c,d=tpl\n",
    "print(a)\n",
    "print(b)\n",
    "print(c)\n",
    "print(d)"
   ]
  },
  {
   "cell_type": "markdown",
   "id": "392388a7",
   "metadata": {},
   "source": [
    "**49-Write a Python program to add an item to a tuple"
   ]
  },
  {
   "cell_type": "code",
   "execution_count": 36,
   "id": "54cc092e",
   "metadata": {},
   "outputs": [
    {
     "data": {
      "text/plain": [
       "(1, 2, 3, 5, 6, 8, 52, 7, 8, 100)"
      ]
     },
     "execution_count": 36,
     "metadata": {},
     "output_type": "execute_result"
    }
   ],
   "source": [
    "tpl=(1,2,3,5,6,8,52,7,8)\n",
    "tpl_after=tpl+(100,)\n",
    "tpl_after"
   ]
  },
  {
   "cell_type": "markdown",
   "id": "3e8fd124",
   "metadata": {},
   "source": [
    "**50-Write a Python program to convert a tuple to a string"
   ]
  },
  {
   "cell_type": "code",
   "execution_count": 37,
   "id": "92a71ddc",
   "metadata": {},
   "outputs": [
    {
     "name": "stdout",
     "output_type": "stream",
     "text": [
      "(1, 5, 2, 5, 6, 6, 52, 2, 20, 4)\n"
     ]
    }
   ],
   "source": [
    "tpl=(1,5,2,5,6,6,52,2,20,4)\n",
    "print(str(tpl))"
   ]
  },
  {
   "cell_type": "markdown",
   "id": "f4f64ef4",
   "metadata": {},
   "source": [
    "**51-Write a Python program to convert a list to a tuple"
   ]
  },
  {
   "cell_type": "code",
   "execution_count": 38,
   "id": "210d56d3",
   "metadata": {},
   "outputs": [
    {
     "name": "stdout",
     "output_type": "stream",
     "text": [
      "(1, 2, 3, 5, 2, 7, 8, 6, 4)\n"
     ]
    }
   ],
   "source": [
    "lst=[1,2,3,5,2,7,8,6,4]\n",
    "tpl=tuple(lst)\n",
    "print(tpl)"
   ]
  },
  {
   "cell_type": "markdown",
   "id": "b1e00ef7",
   "metadata": {},
   "source": [
    "**52-Write a Python program to reverse a tuple"
   ]
  },
  {
   "cell_type": "code",
   "execution_count": 39,
   "id": "f45bfdc7",
   "metadata": {},
   "outputs": [
    {
     "name": "stdout",
     "output_type": "stream",
     "text": [
      "(2, 4, 9, 3, 5, 3, 2, 1)\n"
     ]
    }
   ],
   "source": [
    "tpl=(1,2,3,5,3,9,4,2,)\n",
    "tpl_after=tpl[::-1]\n",
    "print(tpl_after)"
   ]
  },
  {
   "cell_type": "markdown",
   "id": "3cd347d1",
   "metadata": {},
   "source": [
    "**53-Write a Python program to replace the last value of tuples in a list.\n",
    "Sample list: [(10, 20, 40), (40, 50, 60), (70, 80, 90)]\n",
    "Expected Output: [(10, 20, 100), (40, 50, 100), (70, 80, 100)]"
   ]
  },
  {
   "cell_type": "code",
   "execution_count": 42,
   "id": "3c4a2a4c",
   "metadata": {},
   "outputs": [
    {
     "name": "stdout",
     "output_type": "stream",
     "text": [
      "[(10, 20, 100), (40, 50, 100), (70, 80, 100)]\n"
     ]
    }
   ],
   "source": [
    "lst = [(10, 20, 40), (40, 50, 60), (70, 80, 90)]\n",
    "lst_after = []\n",
    "\n",
    "for i in lst:\n",
    "    lst_after.append((i[0], i[1], 100))\n",
    "\n",
    "print(lst_after)"
   ]
  },
  {
   "cell_type": "markdown",
   "id": "76bb7b39",
   "metadata": {},
   "source": [
    "**54-Write a Python program to convert a given string list to a tuple\n",
    "Original string: python 3.0\n",
    "<class 'str'>\n",
    "Convert the said string to a tuple:\n",
    "('p', 'y', 't', 'h', 'o', 'n', '3', '.', '0')"
   ]
  },
  {
   "cell_type": "code",
   "execution_count": 4,
   "id": "51951937",
   "metadata": {},
   "outputs": [
    {
     "name": "stdout",
     "output_type": "stream",
     "text": [
      "('p', 'y', 't', 'h', 'o', 'n', ' ', '3', '.', '0', ' ', '<', 'c', 'l', 'a', 's', 's', ' ', \"'\", 's', 't', 'r', \"'\", '>')\n"
     ]
    }
   ],
   "source": [
    "st=\"python 3.0 <class 'str'>\"\n",
    "\n",
    "tpl=tuple(st)\n",
    "print(tpl)"
   ]
  },
  {
   "cell_type": "markdown",
   "id": "5a1d5d97",
   "metadata": {},
   "source": [
    "**55-Write a Python program to calculate the average value of the numbers in a given tuple of tuples"
   ]
  },
  {
   "cell_type": "code",
   "execution_count": 6,
   "id": "834e7992",
   "metadata": {},
   "outputs": [
    {
     "name": "stdout",
     "output_type": "stream",
     "text": [
      "8.384615384615385\n"
     ]
    }
   ],
   "source": [
    "tpl=(1,2,3,5,9,52,4,6,5,3,2,8,9)\n",
    "ave=sum(tpl)/len(tpl)\n",
    "print(ave)"
   ]
  },
  {
   "cell_type": "markdown",
   "id": "51edab9c",
   "metadata": {},
   "source": [
    "**56-Write a Python program to add member(s) to a set."
   ]
  },
  {
   "cell_type": "code",
   "execution_count": 8,
   "id": "2b65df79",
   "metadata": {},
   "outputs": [
    {
     "name": "stdout",
     "output_type": "stream",
     "text": [
      "{1, 2, 3, 4, 5, 6, 100, 8}\n"
     ]
    }
   ],
   "source": [
    "s={1,2,5,8,6,3,4}\n",
    "s.add(100)\n",
    "print(s)"
   ]
  },
  {
   "cell_type": "markdown",
   "id": "965590cc",
   "metadata": {},
   "source": [
    "**57-Write a Python program to remove an item from a set if it is present in the set."
   ]
  },
  {
   "cell_type": "code",
   "execution_count": 12,
   "id": "866bab28",
   "metadata": {},
   "outputs": [
    {
     "name": "stdout",
     "output_type": "stream",
     "text": [
      "{1, 2, 3, 5, 6, 7, 8, 78}\n"
     ]
    }
   ],
   "source": [
    "s={1,2,3,6,8,5,2,3,7,25,7,78,3}\n",
    "if i==25:\n",
    "    s.remove(i)\n",
    "       \n",
    "print(s)"
   ]
  },
  {
   "cell_type": "markdown",
   "id": "2b7cfed1",
   "metadata": {},
   "source": [
    "**58-Write a Python program to create an intersection,union,difference and symmetric difference of sets"
   ]
  },
  {
   "cell_type": "code",
   "execution_count": 13,
   "id": "7f94b7fe",
   "metadata": {},
   "outputs": [
    {
     "name": "stdout",
     "output_type": "stream",
     "text": [
      "union {1, 2, 3, 4, 5, 6, 7, 8, 9}\n",
      "intersection {5, 6}\n",
      "first intersection {1, 2, 3, 4}\n",
      "second intersection {8, 9, 7}\n",
      "symmetric {1, 2, 3, 4, 7, 8, 9}\n"
     ]
    }
   ],
   "source": [
    "s1={1,2,3,4,5,6}\n",
    "s2={5,6,7,8,9}\n",
    "#union\n",
    "u=s1|s2\n",
    "print(\"union\",u)\n",
    "\n",
    "#intersection\n",
    "i=s1&s2\n",
    "print(\"intersection\",i)\n",
    "\n",
    "#diffrence\n",
    "print(\"first intersection\",s1-s2)\n",
    "print(\"second intersection\",s2-s1)\n",
    "\n",
    "#symmetric\n",
    "s=s1^s2\n",
    "print(\"symmetric\",s)"
   ]
  },
  {
   "cell_type": "markdown",
   "id": "b94931e2",
   "metadata": {},
   "source": [
    "**59-Write a Python program to find the maximum and minimum values in a set"
   ]
  },
  {
   "cell_type": "code",
   "execution_count": 14,
   "id": "203f9600",
   "metadata": {},
   "outputs": [
    {
     "name": "stdout",
     "output_type": "stream",
     "text": [
      "minimum 1\n",
      "maximum 10\n"
     ]
    }
   ],
   "source": [
    "s={1,2,3,5,3,8,2,1,10}\n",
    "print(\"minimum\",min(s))\n",
    "print(\"maximum\",max(s))"
   ]
  },
  {
   "cell_type": "markdown",
   "id": "255fd554",
   "metadata": {},
   "source": [
    "**60- Write a Python program that finds all pairs of elements in a list whose sum is equal to a given value."
   ]
  },
  {
   "cell_type": "code",
   "execution_count": 15,
   "id": "c2d94e1f",
   "metadata": {},
   "outputs": [
    {
     "name": "stdout",
     "output_type": "stream",
     "text": [
      "[(1, 9), (2, 8), (3, 7), (4, 6)]\n"
     ]
    }
   ],
   "source": [
    "lst = [1, 2, 3, 4, 5, 6, 7, 8, 9]\n",
    "target= 10\n",
    "\n",
    "lst2= []\n",
    "\n",
    "for i in range(len(lst)):\n",
    "    for j in range(i+1, len(lst)):\n",
    "        if lst[i] + lst[j] == target:\n",
    "            lst2.append((lst[i], lst[j]))\n",
    "\n",
    "print(lst2)"
   ]
  },
  {
   "cell_type": "code",
   "execution_count": null,
   "id": "f981b915",
   "metadata": {},
   "outputs": [],
   "source": []
  },
  {
   "cell_type": "code",
   "execution_count": null,
   "id": "7981d4ea",
   "metadata": {},
   "outputs": [],
   "source": []
  }
 ],
 "metadata": {
  "kernelspec": {
   "display_name": "Python 3 (ipykernel)",
   "language": "python",
   "name": "python3"
  },
  "language_info": {
   "codemirror_mode": {
    "name": "ipython",
    "version": 3
   },
   "file_extension": ".py",
   "mimetype": "text/x-python",
   "name": "python",
   "nbconvert_exporter": "python",
   "pygments_lexer": "ipython3",
   "version": "3.11.5"
  }
 },
 "nbformat": 4,
 "nbformat_minor": 5
}
