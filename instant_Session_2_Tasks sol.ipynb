{
 "cells": [
  {
   "cell_type": "markdown",
   "metadata": {},
   "source": [
    "# Raghad ahmed"
   ]
  },
  {
   "cell_type": "markdown",
   "metadata": {
    "id": "N8blBjfzqU6I"
   },
   "source": [
    "# Session 2 Tasks"
   ]
  },
  {
   "cell_type": "markdown",
   "metadata": {
    "id": "10XjML4cqZa4"
   },
   "source": [
    "1. Create 3 variables to store street, city and country, now create address variable to\n",
    "store entire address. Use two ways of creating this variable, one using + operator and the other using f-string.\n",
    "Now Print the address in such a way that the street, city and country prints in a separate line\n",
    "2. Create a variable to store the string \"Earth revolves around the sun\"\n",
    "    1. Print \"revolves\" using slice operator\n",
    "    2. Print \"sun\" using negative index\n",
    "3. Create two variables to store how many fruits and vegetables you eat in a day.\n",
    "Now Print \"I eat x veggies and y fruits daily\" where x and y presents vegetables and fruits that you eat everyday. Use python f string for this.\n",
    "4. I have a string variable called s='maine 200 banana khaye'. This of course is a\n",
    "wrong statement, the correct statement is 'maine 10 samosa khaye'.\n",
    "Replace incorrect words in original strong with new ones and print the new string.\n",
    "Also try to do this in one line.\n"
   ]
  },
  {
   "cell_type": "code",
   "execution_count": 7,
   "metadata": {
    "id": "P4EUN6nuqUPf"
   },
   "outputs": [
    {
     "name": "stdout",
     "output_type": "stream",
     "text": [
      "enter streetegypt\n",
      "enter citygiza\n",
      "enter countryhadayk ahram\n",
      "first way\n",
      "country :hadayk ahram city:giza streetegypt\n",
      "second way\n",
      "you live in hadayk ahram and giza and egypt\n"
     ]
    }
   ],
   "source": [
    "street=input(\"enter street\")\n",
    "city=input(\"enter city\")\n",
    "country=input(\"enter country\")\n",
    "print(\"first way\")\n",
    "print (\"country :\" +country +\" \" +\"city:\"+city +\" \"+ \"street\"+ street)\n",
    "print(\"second way\")\n",
    "print (f\"you live in {country} and {city} and {street}\")\n"
   ]
  },
  {
   "cell_type": "code",
   "execution_count": 12,
   "metadata": {},
   "outputs": [
    {
     "name": "stdout",
     "output_type": "stream",
     "text": [
      "revolve\n",
      "sun\n"
     ]
    }
   ],
   "source": [
    "x=\"Earth revolves around the sun\"\n",
    "#  01234 6:14     16:21  23:25 27:29\n",
    "print (x[6:13])\n",
    "print (x[-3:])"
   ]
  },
  {
   "cell_type": "code",
   "execution_count": 13,
   "metadata": {},
   "outputs": [
    {
     "name": "stdout",
     "output_type": "stream",
     "text": [
      "enter fruits you eatmango\n",
      "enter vegatab you eattomato\n",
      "I eat tomato veggies and mango fruits daily\n"
     ]
    }
   ],
   "source": [
    "x=input(\"enter fruits you eat\")\n",
    "y=input(\"enter vegatab you eat\")\n",
    "\n",
    "print(f\"I eat {y} veggies and {x} fruits daily\")"
   ]
  },
  {
   "cell_type": "code",
   "execution_count": 14,
   "metadata": {},
   "outputs": [
    {
     "name": "stdout",
     "output_type": "stream",
     "text": [
      "maine 10 samosa khaye\n"
     ]
    }
   ],
   "source": [
    "s='maine 200 banana khaye'\n",
    " # 'maine 10 samosa khaye'\n",
    "print (s.replace(\"200 banana\",\"10 samosa\"))"
   ]
  },
  {
   "cell_type": "markdown",
   "metadata": {
    "id": "B98K3rbAqz7e"
   },
   "source": [
    "1. Let us say your expense for every month are listed below.\n",
    "\t  1. January -  2200\n",
    "    2. February - 2350\n",
    "    3. March - 2600\n",
    "    4. April - 2130\n",
    "    5. May - 2190\n",
    "\n",
    "Create a list to store these monthly expenses and using that find out,\n",
    "\n",
    "    1. In Feb, how many dollars you spent extra compare to January?\n",
    "    2. Find out your total expense in first quarter (first three months) of the year.\n",
    "    3. Find out if you spent exactly 2000 dollars in any month\n",
    "    4. June month just finished and your expense is 1980 dollar. Add this item to our monthly expense list\n",
    "    5. You returned an item that you bought in a month of April and\n",
    "    got a refund of 200$. Make a correction to your monthly expense list\n",
    "    based on this\n",
    "\n",
    "2. You have a list of your favourite marvel super heros.\n",
    "```\n",
    "heros=['spider man','thor','hulk','iron man','captain america']\n",
    "```\n",
    "\n",
    "Using this find out,\n",
    "\n",
    "    1. Length of the list\n",
    "    2. Add 'black panther' at the end of this list\n",
    "    3. You realize that you need to add 'black panther' after 'hulk',\n",
    "       so remove it from the list first and then add it after 'hulk'\n",
    "    4. Now you don't like thor and hulk because they get angry easily :)\n",
    "       So you want to remove thor and hulk from list and replace them with doctor strange (because he is cool).\n",
    "       Do that with one line of code.\n",
    "    5. Sort the heros list in alphabetical order (Hint. Use dir() functions to list down all functions available in list)\n",
    "\n",
    "\n",
    "\n",
    "\n"
   ]
  },
  {
   "cell_type": "code",
   "execution_count": 20,
   "metadata": {
    "id": "vvus0ZOlrzJS"
   },
   "outputs": [
    {
     "name": "stdout",
     "output_type": "stream",
     "text": [
      "diffrence between jan,feb= 150\n",
      "sum of first quarter= 7150\n",
      "do you spent 2000 False\n",
      "replace april 2510\n"
     ]
    }
   ],
   "source": [
    "x=[2200,2350,2600,2310,2190]\n",
    "#  jan, feb ,mar,april,may\n",
    "#1\n",
    "print(\"diffrence between jan,feb=\",x[1]-x[0])\n",
    "#2\n",
    "print (\"sum of first quarter=\",sum(x[:3]))\n",
    "#3\n",
    "print(\"do you spent 2000\",2000 in x)\n",
    "#4\n",
    "print(\"replace april\", x[3]+200)"
   ]
  },
  {
   "cell_type": "code",
   "execution_count": 31,
   "metadata": {},
   "outputs": [
    {
     "name": "stdout",
     "output_type": "stream",
     "text": [
      "5\n",
      "['spider man', 'thor', 'hulk', 'iron man', 'captain america', 'black panther']\n",
      "['spider man', 'thor', 'hulk', 'black panther', 'iron man', 'captain america']\n",
      "['spider man', 'doctor strange', 'black panther', 'iron man', 'captain america']\n",
      "['black panther', 'captain america', 'doctor strange', 'iron man', 'spider man']\n"
     ]
    }
   ],
   "source": [
    "heros=['spider man','thor','hulk','iron man','captain america']\n",
    "#1\n",
    "print(len(heros))\n",
    "#2\n",
    "heros.append(\"black panther\")\n",
    "print(heros)\n",
    "#3\n",
    "heros.remove(\"black panther\")\n",
    "heros.insert(3,\"black panther\")\n",
    "print(heros)\n",
    "#4\n",
    "heros[1:3] = ['doctor strange']\n",
    "print(heros)\n",
    "#5\n",
    "heros.sort()\n",
    "print(heros)"
   ]
  },
  {
   "cell_type": "markdown",
   "metadata": {
    "id": "ojrpvhohrzgJ"
   },
   "source": [
    "Write a program that prints following shape\n",
    "\n",
    "```\n",
    "    *\n",
    "   ***\n",
    "  *****\n",
    " *******\n",
    "*********\n",
    " *******\n",
    "  *****\n",
    "   ***\n",
    "    *\n",
    "```\n",
    "\n"
   ]
  },
  {
   "cell_type": "code",
   "execution_count": 35,
   "metadata": {
    "id": "Ad-hutpdsCJ6"
   },
   "outputs": [
    {
     "name": "stdout",
     "output_type": "stream",
     "text": [
      "    *\n",
      "   ***\n",
      "  *****\n",
      " *******\n",
      "*********\n",
      " *******\n",
      "  *****\n",
      "   ***\n",
      "    *\n"
     ]
    }
   ],
   "source": [
    "n = 5\n",
    "i = 0\n",
    "\n",
    "while i < n:\n",
    "    print(' ' * (n - i - 1) + '*' * (2 * i + 1))\n",
    "    i += 1\n",
    "i = n - 2\n",
    "while i >= 0:\n",
    "    print(' ' * (n - i - 1) + '*' * (2 * i + 1))\n",
    "    i -= 1"
   ]
  },
  {
   "cell_type": "code",
   "execution_count": null,
   "metadata": {},
   "outputs": [],
   "source": []
  }
 ],
 "metadata": {
  "colab": {
   "provenance": []
  },
  "kernelspec": {
   "display_name": "Python 3 (ipykernel)",
   "language": "python",
   "name": "python3"
  },
  "language_info": {
   "codemirror_mode": {
    "name": "ipython",
    "version": 3
   },
   "file_extension": ".py",
   "mimetype": "text/x-python",
   "name": "python",
   "nbconvert_exporter": "python",
   "pygments_lexer": "ipython3",
   "version": "3.11.5"
  }
 },
 "nbformat": 4,
 "nbformat_minor": 1
}
